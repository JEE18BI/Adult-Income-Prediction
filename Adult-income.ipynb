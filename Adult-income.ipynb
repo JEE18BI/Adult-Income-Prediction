{
 "cells": [
  {
   "cell_type": "markdown",
   "id": "0ce89abf-7c92-4fd8-baaa-198474d7cead",
   "metadata": {},
   "source": [
    "# importing"
   ]
  },
  {
   "cell_type": "code",
   "execution_count": 1,
   "id": "abd87c48-b157-4f8b-bcd3-c5432ea94bb0",
   "metadata": {},
   "outputs": [],
   "source": [
    "import pandas as pd\n",
    "import numpy as np \n",
    "from numpy.random import randn\n",
    "import matplotlib.pyplot as plt \n",
    "import seaborn as sns\n",
    "from sklearn.model_selection import train_test_split\n",
    "from sklearn import metrics\n",
    "from sklearn import preprocessing\n",
    "from sklearn.preprocessing import StandardScaler\n",
    "from sklearn.metrics import accuracy_score, precision_score, recall_score, f1_score, confusion_matrix, roc_auc_score, roc_curve\n",
    "import matplotlib.pyplot as plt\n",
    "from sklearn.neighbors import KNeighborsClassifier\n",
    "from sklearn.linear_model import LogisticRegression\n",
    "from sklearn.svm import SVC\n",
    "import seaborn as sns\n",
    "from sklearn.tree import DecisionTreeClassifier\n",
    "from sklearn.neural_network import MLPRegressor, MLPClassifierfrom \n",
    "import tkinter as tk\n",
    "from tkinter import ttk, messagebox\n",
    "import warnings\n",
    "warnings.filterwarnings('ignore')\n",
    "%matplotlib inline"
   ]
  },
  {
   "cell_type": "markdown",
   "id": "fd688ae9-c69a-4c82-97db-62974159cb42",
   "metadata": {},
   "source": [
    "# Data Exploration"
   ]
  },
  {
   "cell_type": "code",
   "execution_count": 2,
   "id": "c0e94143-e9ba-4ee3-afbf-513356c8b4f4",
   "metadata": {},
   "outputs": [],
   "source": [
    "#Reading the excel sheet\n",
    "df = pd.read_excel('/Users/salmasamy/Downloads/Datasets/Adult Census Income_Dataset.xlsx')\n"
   ]
  },
  {
   "cell_type": "code",
   "execution_count": 3,
   "id": "2e6abb7d-2219-440d-9ffc-93d7a38a2ea1",
   "metadata": {},
   "outputs": [
    {
     "data": {
      "text/html": [
       "<div>\n",
       "<style scoped>\n",
       "    .dataframe tbody tr th:only-of-type {\n",
       "        vertical-align: middle;\n",
       "    }\n",
       "\n",
       "    .dataframe tbody tr th {\n",
       "        vertical-align: top;\n",
       "    }\n",
       "\n",
       "    .dataframe thead th {\n",
       "        text-align: right;\n",
       "    }\n",
       "</style>\n",
       "<table border=\"1\" class=\"dataframe\">\n",
       "  <thead>\n",
       "    <tr style=\"text-align: right;\">\n",
       "      <th></th>\n",
       "      <th>age</th>\n",
       "      <th>workclass</th>\n",
       "      <th>fnlwgt</th>\n",
       "      <th>education</th>\n",
       "      <th>education.num</th>\n",
       "      <th>marital.status</th>\n",
       "      <th>occupation</th>\n",
       "      <th>relationship</th>\n",
       "      <th>race</th>\n",
       "      <th>sex</th>\n",
       "      <th>capital.gain</th>\n",
       "      <th>capital.loss</th>\n",
       "      <th>hours.per.week</th>\n",
       "      <th>native.country</th>\n",
       "      <th>income</th>\n",
       "    </tr>\n",
       "  </thead>\n",
       "  <tbody>\n",
       "    <tr>\n",
       "      <th>0</th>\n",
       "      <td>90</td>\n",
       "      <td>?</td>\n",
       "      <td>77053</td>\n",
       "      <td>HS-grad</td>\n",
       "      <td>9</td>\n",
       "      <td>Widowed</td>\n",
       "      <td>?</td>\n",
       "      <td>Not-in-family</td>\n",
       "      <td>White</td>\n",
       "      <td>Female</td>\n",
       "      <td>0</td>\n",
       "      <td>4356</td>\n",
       "      <td>40</td>\n",
       "      <td>United-States</td>\n",
       "      <td>&lt;=50K</td>\n",
       "    </tr>\n",
       "    <tr>\n",
       "      <th>1</th>\n",
       "      <td>82</td>\n",
       "      <td>Private</td>\n",
       "      <td>132870</td>\n",
       "      <td>HS-grad</td>\n",
       "      <td>9</td>\n",
       "      <td>Widowed</td>\n",
       "      <td>Exec-managerial</td>\n",
       "      <td>Not-in-family</td>\n",
       "      <td>White</td>\n",
       "      <td>Female</td>\n",
       "      <td>0</td>\n",
       "      <td>4356</td>\n",
       "      <td>18</td>\n",
       "      <td>United-States</td>\n",
       "      <td>&lt;=50K</td>\n",
       "    </tr>\n",
       "    <tr>\n",
       "      <th>2</th>\n",
       "      <td>66</td>\n",
       "      <td>?</td>\n",
       "      <td>186061</td>\n",
       "      <td>Some-college</td>\n",
       "      <td>10</td>\n",
       "      <td>Widowed</td>\n",
       "      <td>?</td>\n",
       "      <td>Unmarried</td>\n",
       "      <td>Black</td>\n",
       "      <td>Female</td>\n",
       "      <td>0</td>\n",
       "      <td>4356</td>\n",
       "      <td>40</td>\n",
       "      <td>United-States</td>\n",
       "      <td>&lt;=50K</td>\n",
       "    </tr>\n",
       "    <tr>\n",
       "      <th>3</th>\n",
       "      <td>54</td>\n",
       "      <td>Private</td>\n",
       "      <td>140359</td>\n",
       "      <td>7th-8th</td>\n",
       "      <td>4</td>\n",
       "      <td>Divorced</td>\n",
       "      <td>Machine-op-inspct</td>\n",
       "      <td>Unmarried</td>\n",
       "      <td>White</td>\n",
       "      <td>Female</td>\n",
       "      <td>0</td>\n",
       "      <td>3900</td>\n",
       "      <td>40</td>\n",
       "      <td>United-States</td>\n",
       "      <td>&lt;=50K</td>\n",
       "    </tr>\n",
       "    <tr>\n",
       "      <th>4</th>\n",
       "      <td>41</td>\n",
       "      <td>Private</td>\n",
       "      <td>264663</td>\n",
       "      <td>Some-college</td>\n",
       "      <td>10</td>\n",
       "      <td>Separated</td>\n",
       "      <td>Prof-specialty</td>\n",
       "      <td>Own-child</td>\n",
       "      <td>White</td>\n",
       "      <td>Female</td>\n",
       "      <td>0</td>\n",
       "      <td>3900</td>\n",
       "      <td>40</td>\n",
       "      <td>United-States</td>\n",
       "      <td>&lt;=50K</td>\n",
       "    </tr>\n",
       "  </tbody>\n",
       "</table>\n",
       "</div>"
      ],
      "text/plain": [
       "   age workclass  fnlwgt     education  education.num marital.status  \\\n",
       "0   90         ?   77053       HS-grad              9        Widowed   \n",
       "1   82   Private  132870       HS-grad              9        Widowed   \n",
       "2   66         ?  186061  Some-college             10        Widowed   \n",
       "3   54   Private  140359       7th-8th              4       Divorced   \n",
       "4   41   Private  264663  Some-college             10      Separated   \n",
       "\n",
       "          occupation   relationship   race     sex  capital.gain  \\\n",
       "0                  ?  Not-in-family  White  Female             0   \n",
       "1    Exec-managerial  Not-in-family  White  Female             0   \n",
       "2                  ?      Unmarried  Black  Female             0   \n",
       "3  Machine-op-inspct      Unmarried  White  Female             0   \n",
       "4     Prof-specialty      Own-child  White  Female             0   \n",
       "\n",
       "   capital.loss  hours.per.week native.country income  \n",
       "0          4356              40  United-States  <=50K  \n",
       "1          4356              18  United-States  <=50K  \n",
       "2          4356              40  United-States  <=50K  \n",
       "3          3900              40  United-States  <=50K  \n",
       "4          3900              40  United-States  <=50K  "
      ]
     },
     "execution_count": 3,
     "metadata": {},
     "output_type": "execute_result"
    }
   ],
   "source": [
    "#showing the first 5 rows\n",
    "df.head()"
   ]
  },
  {
   "cell_type": "code",
   "execution_count": 4,
   "id": "bc5ae991-08bb-4381-8271-ea928e9ac36b",
   "metadata": {},
   "outputs": [
    {
     "name": "stdout",
     "output_type": "stream",
     "text": [
      "<class 'pandas.core.frame.DataFrame'>\n",
      "RangeIndex: 32561 entries, 0 to 32560\n",
      "Data columns (total 15 columns):\n",
      " #   Column          Non-Null Count  Dtype \n",
      "---  ------          --------------  ----- \n",
      " 0   age             32561 non-null  int64 \n",
      " 1   workclass       32561 non-null  object\n",
      " 2   fnlwgt          32561 non-null  int64 \n",
      " 3   education       32561 non-null  object\n",
      " 4   education.num   32561 non-null  int64 \n",
      " 5   marital.status  32561 non-null  object\n",
      " 6   occupation      32561 non-null  object\n",
      " 7   relationship    32561 non-null  object\n",
      " 8   race            32561 non-null  object\n",
      " 9   sex             32561 non-null  object\n",
      " 10  capital.gain    32561 non-null  int64 \n",
      " 11  capital.loss    32561 non-null  int64 \n",
      " 12  hours.per.week  32561 non-null  int64 \n",
      " 13  native.country  32561 non-null  object\n",
      " 14  income          32561 non-null  object\n",
      "dtypes: int64(6), object(9)\n",
      "memory usage: 3.7+ MB\n"
     ]
    }
   ],
   "source": [
    "df.info()"
   ]
  },
  {
   "cell_type": "code",
   "execution_count": 5,
   "id": "ec463169-124a-4846-ba6b-1a73823ad3b1",
   "metadata": {},
   "outputs": [
    {
     "data": {
      "text/html": [
       "<div>\n",
       "<style scoped>\n",
       "    .dataframe tbody tr th:only-of-type {\n",
       "        vertical-align: middle;\n",
       "    }\n",
       "\n",
       "    .dataframe tbody tr th {\n",
       "        vertical-align: top;\n",
       "    }\n",
       "\n",
       "    .dataframe thead th {\n",
       "        text-align: right;\n",
       "    }\n",
       "</style>\n",
       "<table border=\"1\" class=\"dataframe\">\n",
       "  <thead>\n",
       "    <tr style=\"text-align: right;\">\n",
       "      <th></th>\n",
       "      <th>count</th>\n",
       "      <th>mean</th>\n",
       "      <th>std</th>\n",
       "      <th>min</th>\n",
       "      <th>25%</th>\n",
       "      <th>50%</th>\n",
       "      <th>75%</th>\n",
       "      <th>max</th>\n",
       "    </tr>\n",
       "  </thead>\n",
       "  <tbody>\n",
       "    <tr>\n",
       "      <th>age</th>\n",
       "      <td>32561.0</td>\n",
       "      <td>38.581647</td>\n",
       "      <td>13.640433</td>\n",
       "      <td>17.0</td>\n",
       "      <td>28.0</td>\n",
       "      <td>37.0</td>\n",
       "      <td>48.0</td>\n",
       "      <td>90.0</td>\n",
       "    </tr>\n",
       "    <tr>\n",
       "      <th>fnlwgt</th>\n",
       "      <td>32561.0</td>\n",
       "      <td>189778.366512</td>\n",
       "      <td>105549.977697</td>\n",
       "      <td>12285.0</td>\n",
       "      <td>117827.0</td>\n",
       "      <td>178356.0</td>\n",
       "      <td>237051.0</td>\n",
       "      <td>1484705.0</td>\n",
       "    </tr>\n",
       "    <tr>\n",
       "      <th>education.num</th>\n",
       "      <td>32561.0</td>\n",
       "      <td>10.080679</td>\n",
       "      <td>2.572720</td>\n",
       "      <td>1.0</td>\n",
       "      <td>9.0</td>\n",
       "      <td>10.0</td>\n",
       "      <td>12.0</td>\n",
       "      <td>16.0</td>\n",
       "    </tr>\n",
       "    <tr>\n",
       "      <th>capital.gain</th>\n",
       "      <td>32561.0</td>\n",
       "      <td>1077.648844</td>\n",
       "      <td>7385.292085</td>\n",
       "      <td>0.0</td>\n",
       "      <td>0.0</td>\n",
       "      <td>0.0</td>\n",
       "      <td>0.0</td>\n",
       "      <td>99999.0</td>\n",
       "    </tr>\n",
       "    <tr>\n",
       "      <th>capital.loss</th>\n",
       "      <td>32561.0</td>\n",
       "      <td>87.303830</td>\n",
       "      <td>402.960219</td>\n",
       "      <td>0.0</td>\n",
       "      <td>0.0</td>\n",
       "      <td>0.0</td>\n",
       "      <td>0.0</td>\n",
       "      <td>4356.0</td>\n",
       "    </tr>\n",
       "    <tr>\n",
       "      <th>hours.per.week</th>\n",
       "      <td>32561.0</td>\n",
       "      <td>40.437456</td>\n",
       "      <td>12.347429</td>\n",
       "      <td>1.0</td>\n",
       "      <td>40.0</td>\n",
       "      <td>40.0</td>\n",
       "      <td>45.0</td>\n",
       "      <td>99.0</td>\n",
       "    </tr>\n",
       "  </tbody>\n",
       "</table>\n",
       "</div>"
      ],
      "text/plain": [
       "                  count           mean            std      min       25%  \\\n",
       "age             32561.0      38.581647      13.640433     17.0      28.0   \n",
       "fnlwgt          32561.0  189778.366512  105549.977697  12285.0  117827.0   \n",
       "education.num   32561.0      10.080679       2.572720      1.0       9.0   \n",
       "capital.gain    32561.0    1077.648844    7385.292085      0.0       0.0   \n",
       "capital.loss    32561.0      87.303830     402.960219      0.0       0.0   \n",
       "hours.per.week  32561.0      40.437456      12.347429      1.0      40.0   \n",
       "\n",
       "                     50%       75%        max  \n",
       "age                 37.0      48.0       90.0  \n",
       "fnlwgt          178356.0  237051.0  1484705.0  \n",
       "education.num       10.0      12.0       16.0  \n",
       "capital.gain         0.0       0.0    99999.0  \n",
       "capital.loss         0.0       0.0     4356.0  \n",
       "hours.per.week      40.0      45.0       99.0  "
      ]
     },
     "execution_count": 5,
     "metadata": {},
     "output_type": "execute_result"
    }
   ],
   "source": [
    "#dataset description \n",
    "df.describe().transpose()"
   ]
  },
  {
   "cell_type": "code",
   "execution_count": 6,
   "id": "e88e3d8b-eeb1-4c0a-9eb6-7cad2bbb6dce",
   "metadata": {},
   "outputs": [],
   "source": [
    "df['income']=df['income'].map({\"<=50K\":0,\">50K\":1})"
   ]
  },
  {
   "cell_type": "code",
   "execution_count": 7,
   "id": "9bcb644a-59ed-4d9b-80bc-ce6b96942873",
   "metadata": {},
   "outputs": [
    {
     "data": {
      "text/plain": [
       "<Axes: xlabel='income', ylabel='count'>"
      ]
     },
     "execution_count": 7,
     "metadata": {},
     "output_type": "execute_result"
    },
    {
     "data": {
      "image/png": "[encoded data removed]",
      "text/plain": [
       "<Figure size 640x480 with 1 Axes>"
      ]
     },
     "metadata": {},
     "output_type": "display_data"
    }
   ],
   "source": [
    "sns.countplot(x='income',data=df)"
   ]
  },
  {
   "cell_type": "markdown",
   "id": "cf239d3c-1f43-4530-b09b-ef90912919be",
   "metadata": {},
   "source": [
    "# Pre-Processing"
   ]
  },
  {
   "cell_type": "markdown",
   "id": "262cca1b-eeab-47f1-a017-7c35455e5752",
   "metadata": {},
   "source": [
    "### Remove Duplicate Data"
   ]
  },
  {
   "cell_type": "code",
   "execution_count": null,
   "id": "a8f71c38-f2c1-41dd-b686-a5eea582f12f",
   "metadata": {},
   "outputs": [],
   "source": [
    "#identify and remove duplicates\n",
    "#identify duplicates \n",
    "duplicates = df.duplicated().sum()\n",
    "print(f'There are {duplicates} duplicated rows')\n",
    "\n",
    "#remove duplicates\n",
    "df_no_duplicates = df.drop_duplicates()"
   ]
  },
  {
   "cell_type": "code",
   "execution_count": null,
   "id": "2553baf3-1a80-4d68-a420-d34157997564",
   "metadata": {},
   "outputs": [],
   "source": [
    "#checking for duplicates after removal\n",
    "print({df_no_duplicates.duplicated().sum()})"
   ]
  },
  {
   "cell_type": "markdown",
   "id": "f2011db2-7241-450d-a210-4b376001a4b3",
   "metadata": {},
   "source": [
    "### Filling Missing Values "
   ]
  },
  {
   "cell_type": "code",
   "execution_count": null,
   "id": "613998c9-f8de-4df0-b495-25ddd470bc1c",
   "metadata": {},
   "outputs": [],
   "source": [
    "# Replace '?' with NaN (Not a Number) -> missing value \n",
    "df.replace('?', np.nan, inplace=True) \n",
    "\n",
    "# Replacing nan values with the mode (categorical columns)\n",
    "df['occupation'] = df['occupation'].fillna(df['occupation'].mode()[0])\n",
    "df['workclass'] = df['workclass'].fillna(df['workclass'].mode()[0])\n",
    "df['native.country'] = df['native.country'].fillna(df['native.country'].mode()[0])\n",
    "\n",
    "df.head()"
   ]
  },
  {
   "cell_type": "code",
   "execution_count": null,
   "id": "8808cc64-5b95-43e2-98a2-3843a354238c",
   "metadata": {},
   "outputs": [],
   "source": [
    "#Checking minimum number of non-null entries to remove the whole column in train dataset\n",
    "perc = 30.0\n",
    "min_count =  int(((100-perc)/100)*df.shape[0] + 1)\n",
    "print(min_count)"
   ]
  },
  {
   "cell_type": "markdown",
   "id": "48a02657-9c2a-49b2-b622-94798084935f",
   "metadata": {},
   "source": [
    "### Finding Missing Values "
   ]
  },
  {
   "cell_type": "code",
   "execution_count": null,
   "id": "d33c27ba-be6a-4be3-9577-b812fbdc7a5f",
   "metadata": {},
   "outputs": [],
   "source": [
    "#Cheking sum of null entries in train dataset\n",
    "df.isnull().sum()\n"
   ]
  },
  {
   "cell_type": "markdown",
   "id": "10176031-3c95-4670-bffb-6e28a64bb855",
   "metadata": {},
   "source": [
    "### Data Reduction"
   ]
  },
  {
   "cell_type": "code",
   "execution_count": 10,
   "id": "97d03a21-03c6-4cec-90ca-3f6e3272e0d9",
   "metadata": {},
   "outputs": [
    {
     "name": "stdout",
     "output_type": "stream",
     "text": [
      "marital.status ['Widowed' 'Divorced' 'Separated' 'Never-married' 'Married-civ-spouse'\n",
      " 'Married-spouse-absent' 'Married-AF-spouse']\n"
     ]
    }
   ],
   "source": [
    "#identifying all unique values in the marital status\n",
    "print('marital.status',df['marital.status'].unique())"
   ]
  },
  {
   "cell_type": "code",
   "execution_count": 11,
   "id": "ecc5961d-44b7-4760-b76f-08e85026ea8d",
   "metadata": {},
   "outputs": [],
   "source": [
    "df['marital.status'].replace([\"Never-married\"], \"NotMarried\",inplace=True)\n",
    "df['marital.status'].replace([\"Married-AF-spouse\"], \"Married\",inplace=True)\n",
    "df['marital.status'].replace([\"Married-civ-spouse\"], \"Married\",inplace=True)\n",
    "df['marital.status'].replace([\"Married-spouse-absent\"], \"NotMarried\",inplace=True)\n",
    "df['marital.status'].replace([\"Separated\"], \"Separated\",inplace=True)\n",
    "df['marital.status'].replace([\"Divorced\"], \"Separated\",inplace=True)\n",
    "df['marital.status'].replace([\"Widowed\"], \"Widowed\",inplace=True)"
   ]
  },
  {
   "cell_type": "code",
   "execution_count": 12,
   "id": "24a8a7de-6f69-48a6-9b60-bd84638fe87d",
   "metadata": {},
   "outputs": [
    {
     "name": "stdout",
     "output_type": "stream",
     "text": [
      "marital.status ['Widowed' 'Separated' 'NotMarried' 'Married']\n"
     ]
    }
   ],
   "source": [
    "print('marital.status',df['marital.status'].unique())"
   ]
  },
  {
   "cell_type": "code",
   "execution_count": 13,
   "id": "5ac0b795-92c7-413f-8fa2-f44e6cb642a0",
   "metadata": {},
   "outputs": [
    {
     "data": {
      "image/png": "[encoded data removed]",
      "text/plain": [
       "<Figure size 1000x600 with 1 Axes>"
      ]
     },
     "metadata": {},
     "output_type": "display_data"
    }
   ],
   "source": [
    "# Group data by marital status and calculate the mean income\n",
    "result = df[['marital.status', 'income']].groupby(['marital.status'], as_index=False).mean().sort_values(by='income', ascending=False)\n",
    "\n",
    "# Visualization\n",
    "plt.figure(figsize=(10, 6))\n",
    "plt.bar(result['marital.status'], result['income'], color='skyblue')\n",
    "plt.xlabel('Marital Status', fontsize=12)\n",
    "plt.ylabel('Average Income', fontsize=12)\n",
    "plt.title('Average Income by Marital Status', fontsize=14)\n",
    "plt.xticks(rotation=45, ha='right')  # Rotate x-axis labels for readability\n",
    "plt.tight_layout()\n",
    "plt.show()"
   ]
  },
  {
   "cell_type": "code",
   "execution_count": 14,
   "id": "40033ecb-1f20-42af-8836-1d22e8ca7824",
   "metadata": {},
   "outputs": [
    {
     "name": "stdout",
     "output_type": "stream",
     "text": [
      "education ['HS-grad' 'Some-college' '7th-8th' '10th' 'Doctorate' 'Prof-school'\n",
      " 'Bachelors' 'Masters' '11th' 'Assoc-acdm' 'Assoc-voc' '1st-4th' '5th-6th'\n",
      " '12th' '9th' 'Preschool']\n"
     ]
    }
   ],
   "source": [
    "print('education',df['education'].unique())"
   ]
  },
  {
   "cell_type": "code",
   "execution_count": 15,
   "id": "5932a835-64bb-4838-a49f-b7eb1e341b29",
   "metadata": {},
   "outputs": [],
   "source": [
    "df['education'].replace('Preschool', 'dropout',inplace=True)\n",
    "df['education'].replace('10th', 'dropout',inplace=True)\n",
    "df['education'].replace('11th', 'dropout',inplace=True)\n",
    "df['education'].replace('12th', 'dropout',inplace=True)\n",
    "df['education'].replace('1st-4th', 'dropout',inplace=True)\n",
    "df['education'].replace('5th-6th', 'dropout',inplace=True)\n",
    "df['education'].replace('7th-8th', 'dropout',inplace=True)\n",
    "df['education'].replace('9th', 'dropout',inplace=True)\n",
    "df['education'].replace('HS-Grad', 'HighGrad',inplace=True)\n",
    "df['education'].replace('HS-grad', 'HighGrad',inplace=True)\n",
    "df['education'].replace('Some-college', 'CommunityCollege',inplace=True)\n",
    "df['education'].replace('Assoc-acdm', 'CommunityCollege',inplace=True)\n",
    "df['education'].replace('Assoc-voc', 'CommunityCollege',inplace=True)\n",
    "df['education'].replace('Bachelors', 'Bachelors',inplace=True)\n",
    "df['education'].replace('Masters', 'Masters',inplace=True)\n",
    "df['education'].replace('Prof-school', 'Masters',inplace=True)\n",
    "df['education'].replace('Doctorate', 'Doctorate',inplace=True)"
   ]
  },
  {
   "cell_type": "code",
   "execution_count": 16,
   "id": "078b1e6a-6aff-4386-8ac9-a71e6fa32733",
   "metadata": {},
   "outputs": [
    {
     "name": "stdout",
     "output_type": "stream",
     "text": [
      "education ['HighGrad' 'CommunityCollege' 'dropout' 'Doctorate' 'Masters' 'Bachelors']\n"
     ]
    }
   ],
   "source": [
    "print('education',df['education'].unique())"
   ]
  },
  {
   "cell_type": "code",
   "execution_count": 21,
   "id": "8f291ce8-b5c0-4403-b6de-b0bf50989562",
   "metadata": {},
   "outputs": [
    {
     "data": {
      "image/png": "[encoded data removed]",
      "text/plain": [
       "<Figure size 1000x600 with 1 Axes>"
      ]
     },
     "metadata": {},
     "output_type": "display_data"
    }
   ],
   "source": [
    "result = df[['education', 'income']].groupby(['education'], as_index=False).mean().sort_values(by='income', ascending=False)\n",
    "\n",
    "# Visualization\n",
    "plt.figure(figsize=(10, 6))\n",
    "plt.bar(result['education'], result['income'], color='pink')\n",
    "plt.xlabel('Education Level', fontsize=12)\n",
    "plt.ylabel('Average Income', fontsize=12)\n",
    "plt.title('Average Income by Education Level', fontsize=14)\n",
    "plt.xticks(rotation=45, ha='right')  # Rotate x-axis labels for readability\n",
    "plt.tight_layout()\n",
    "plt.show()"
   ]
  },
  {
   "cell_type": "code",
   "execution_count": 18,
   "id": "e0adeb5d-c203-4b35-81e8-aebf1a741d5a",
   "metadata": {},
   "outputs": [],
   "source": [
    "result = df[['education', 'education.num']].groupby(['education'], as_index=False).mean().sort_values(by='education.num', ascending=False)"
   ]
  },
  {
   "cell_type": "code",
   "execution_count": 19,
   "id": "d122a802-4a7f-4549-b743-0ec027c4ee12",
   "metadata": {},
   "outputs": [
    {
     "data": {
      "image/png": "[encoded data removed]",
      "text/plain": [
       "<Figure size 1000x600 with 1 Axes>"
      ]
     },
     "metadata": {},
     "output_type": "display_data"
    }
   ],
   "source": [
    "# Visualization\n",
    "plt.figure(figsize=(10, 6))\n",
    "sns.barplot(x='education', y='education.num', data=result, palette='viridis')\n",
    "plt.xlabel('Education', fontsize=12)\n",
    "plt.ylabel('Average Education.num', fontsize=12)\n",
    "plt.title('Average Education.num by Education Level', fontsize=14)\n",
    "plt.xticks(rotation=45, ha='right')  # Rotate x-axis labels for better readability\n",
    "plt.tight_layout()\n",
    "plt.show()"
   ]
  },
  {
   "cell_type": "markdown",
   "id": "819167ac-87cb-4855-817c-69e21343d167",
   "metadata": {},
   "source": [
    "## Data Transformation"
   ]
  },
  {
   "cell_type": "markdown",
   "id": "78b21bf5-11d5-481f-908f-62d208e1f96f",
   "metadata": {},
   "source": [
    "### Encoding"
   ]
  },
  {
   "cell_type": "code",
   "execution_count": null,
   "id": "df4dec9a-863c-4c0d-b1f8-44c86eeeb342",
   "metadata": {},
   "outputs": [],
   "source": [
    "#Encode columns with object datatypes\n",
    "label_encoder = preprocessing.LabelEncoder()\n",
    "\n",
    "for i in df.columns:\n",
    "    if (df[i].dtypes== 'object') :\n",
    "        df[i] = label_encoder.fit_transform(df[i])\n",
    "        \n",
    "      "
   ]
  },
  {
   "cell_type": "code",
   "execution_count": null,
   "id": "ba1541d9-59e4-4ff1-9b6c-880eaf874c87",
   "metadata": {},
   "outputs": [],
   "source": [
    "df.head()"
   ]
  },
  {
   "cell_type": "code",
   "execution_count": null,
   "id": "3d5f0576-a52a-46af-aec9-5679d6a8903b",
   "metadata": {},
   "outputs": [],
   "source": [
    "#Correlation using heatmap\n",
    "plt.figure(figsize = (30, 25))\n",
    "sns.heatmap(df.corr(), annot = True, cmap=\"YlGnBu\")\n",
    "plt.show()"
   ]
  },
  {
   "cell_type": "code",
   "execution_count": null,
   "id": "d32daf08-8107-40f4-9fec-4f9f8f0d20d5",
   "metadata": {},
   "outputs": [],
   "source": [
    "# Slicing the data into features (X) and target (Y)\n",
    "# Define features and target\n",
    "X = df.drop('income', axis=1)\n",
    "y = df['income'] # Labels\n",
    "\n",
    "# Split dataset into training set and test set\n",
    "X_train, X_test, y_train, y_test = train_test_split(X, y, test_size=0.25, random_state=1)"
   ]
  },
  {
   "cell_type": "markdown",
   "id": "9e560952-2248-4cc8-a6e7-a6c830f41525",
   "metadata": {},
   "source": [
    "### Data Scaling "
   ]
  },
  {
   "cell_type": "code",
   "execution_count": null,
   "id": "e4cb6244-abb8-4ac8-97d7-e825b5a01e0c",
   "metadata": {},
   "outputs": [],
   "source": [
    "# Scaling the data\n",
    "scaler = StandardScaler()\n",
    "X_train = scaler.fit_transform(X_train)\n",
    "X_test = scaler.transform(X_test)\n"
   ]
  },
  {
   "cell_type": "code",
   "execution_count": null,
   "id": "75cdc130-08c5-416e-8e52-e84b0f079dae",
   "metadata": {},
   "outputs": [],
   "source": [
    "df.head()"
   ]
  },
  {
   "cell_type": "markdown",
   "id": "04525290-7297-4122-a543-e87d04bc9f3b",
   "metadata": {},
   "source": [
    "# Evaluation"
   ]
  },
  {
   "cell_type": "code",
   "execution_count": null,
   "id": "c3b7502a-81f4-403a-9462-d4f7a48f1f97",
   "metadata": {},
   "outputs": [],
   "source": [
    "def evaluate_model(model, X_test, y_test):\n",
    "    # Make predictions\n",
    "    y_pred = model.predict(X_test)\n",
    "    y_pred_proba = model.predict_proba(X_test)[:, 1] if hasattr(model, \"predict_proba\") else None\n",
    "    \n",
    "    # Calculate evaluation metrics\n",
    "    accuracy = accuracy_score(y_test, y_pred)*100\n",
    "    precision = precision_score(y_test, y_pred)*100\n",
    "    recall = recall_score(y_test, y_pred)*100\n",
    "    f1 = f1_score(y_test, y_pred)*100\n",
    "    roc_auc = roc_auc_score(y_test, y_pred_proba) if y_pred_proba is not None else None\n",
    "    \n",
    "    # Print evaluation metrics\n",
    "    print(f\"Accuracy: {accuracy}\")\n",
    "    print(f\"Precision: {precision}\")\n",
    "    print(f\"Recall: {recall}\")\n",
    "    print(f\"F1-Score: {f1}\")\n",
    "    if roc_auc is not None:\n",
    "        print(f\"ROC-AUC: {roc_auc}\")\n",
    "    \n",
    "    # Confusion Matrix\n",
    "    cm = confusion_matrix(y_test, y_pred)\n",
    "    plt.figure(figsize=(8, 6))\n",
    "    sns.heatmap(cm, annot=True, fmt='d', cmap='Blues', xticklabels=['<=50K', '>50K'], yticklabels=['<=50K', '>50K'])\n",
    "    plt.xlabel('Predicted')\n",
    "    plt.ylabel('Actual')\n",
    "    plt.title('Confusion Matrix')\n",
    "    plt.show()\n",
    "    \n",
    "    # ROC Curve\n",
    "    if roc_auc is not None:\n",
    "        fpr, tpr, _ = roc_curve(y_test, y_pred_proba)\n",
    "        plt.figure(figsize=(8, 6))\n",
    "        plt.plot(fpr, tpr, label=f'ROC Curve (AUC = {roc_auc:.2f})')\n",
    "        plt.plot([0, 1], [0, 1], 'k--')\n",
    "        plt.xlabel('False Positive Rate')\n",
    "        plt.ylabel('True Positive Rate')\n",
    "        plt.title('ROC Curve')\n",
    "        plt.legend(loc='lower right')\n",
    "        plt.show()"
   ]
  },
  {
   "cell_type": "markdown",
   "id": "df15b544-a22b-4623-8aa2-23fa97dfc9e4",
   "metadata": {},
   "source": [
    "# Decision Tree Classifier"
   ]
  },
  {
   "cell_type": "code",
   "execution_count": null,
   "id": "bf3eedea-8064-40bb-a3ba-dd80e6a18d11",
   "metadata": {},
   "outputs": [],
   "source": [
    "# Defining the parameter grid for Decision Tree\n",
    "param_grid_dt = {\n",
    "    'criterion': ['gini', 'entropy'],\n",
    "    'max_depth': [None, 10, 20, 30],\n",
    "    'min_samples_split': [2, 5, 10],\n",
    "    'min_samples_leaf': [1, 2, 4]\n",
    "}\n",
    "\n",
    "# Initialize model\n",
    "dt = DecisionTreeClassifier()\n",
    "\n",
    "# Grid search with cross-validation\n",
    "grid_search_dt = GridSearchCV(estimator=dt, param_grid=param_grid_dt, cv=5, n_jobs=-1, verbose=2)\n",
    "grid_search_dt.fit(X_train, y_train)\n",
    "\n",
    "# Train model and get best parameters\n",
    "best_params_dt = grid_search_dt.best_params_\n",
    "best_dt = DecisionTreeClassifier(**best_params_dt)\n",
    "best_dt.fit(X_train, y_train)\n",
    "\n",
    "# Making predictions\n",
    "y_pred_dt = best_dt.predict(X_test)\n",
    "\n",
    "# Evaluate the model\n",
    "accuracy_dt = accuracy_score(y_test, y_pred_dt)\n",
    "print(f\"Decision Tree model accuracy: {accuracy_dt}\")\n",
    "print(f\"Best hyperparameters for Decision Tree: {best_params_dt}\")"
   ]
  },
  {
   "cell_type": "code",
   "execution_count": null,
   "id": "c3db3f1c-3a36-42a9-b607-465a6c6d49ca",
   "metadata": {},
   "outputs": [],
   "source": [
    "best_params_dt = {'criterion': 'entropy', 'max_depth': 10, 'min_samples_leaf': 4, 'min_samples_split': 2}\n",
    "\n",
    "# Train the final Decision Tree model with the best hyperparameters\n",
    "final_dt = DecisionTreeClassifier(**best_params_dt)\n",
    "final_dt.fit(X_train, y_train)\n",
    "\n",
    "# Make predictions with the final model\n",
    "y_pred_dt = final_dt.predict(X_test)\n",
    "\n",
    "# Evaluate the final Decision Tree model\n",
    "accuracy_dt = accuracy_score(y_test, y_pred_dt)\n",
    "print(f\"Final Decision Tree model accuracy: {accuracy_dt}\")\n",
    "print(\"Evaluating Decision Tree Model:\")\n",
    "evaluate_model(final_dt, X_test, y_test)"
   ]
  },
  {
   "cell_type": "markdown",
   "id": "3aed5041-c01c-42a5-a107-d48881a064cc",
   "metadata": {},
   "source": [
    "### MLP Classifier "
   ]
  },
  {
   "cell_type": "code",
   "execution_count": null,
   "id": "2bc928c3-10d4-4785-8056-f2e16997cf70",
   "metadata": {},
   "outputs": [],
   "source": [
    "#varying the maximum iterations and the learning rate of the model\n",
    "mlp_clf = MLPClassifier(random_state=42,max_iter=1000, learning_rate_init=0.001, activation=\"relu\",\n",
    "hidden_layer_sizes = ((100,)))\n",
    "\n",
    "#Training the model using the train sets\n",
    "mlp_clf.fit(X_train,y_train)\n",
    "\n",
    "#Predicting the target using the test sets\n",
    "y_pred = mlp_clf.predict(X_test)\n",
    "\n",
    "#Model validation\n",
    "accuracy_score(y_test, y_pred)"
   ]
  },
  {
   "cell_type": "markdown",
   "id": "808651fa-fae1-4d73-9a35-aeaf355d50ca",
   "metadata": {},
   "source": [
    "# Logistic Regression"
   ]
  },
  {
   "cell_type": "code",
   "execution_count": null,
   "id": "c23e022d-0717-403d-9aaa-c42cdcd43faa",
   "metadata": {},
   "outputs": [],
   "source": [
    "# Define the parameter grid for hyperparameter tuning (to guide the learning process)\n",
    "param_grid = {\n",
    "    'penalty': ['l1', 'l2', 'elasticnet', 'none'],\n",
    "    'C': [0.01, 0.1, 1, 10, 100],\n",
    "    'solver': ['newton-cg', 'lbfgs', 'liblinear', 'sag', 'saga'],\n",
    "    'max_iter': [100, 200, 300]\n",
    "}\n",
    "\n",
    "# Initialize the model\n",
    "lr = LogisticRegression()\n",
    "\n",
    "# Perform grid search with cross-validation\n",
    "grid_search = GridSearchCV(estimator=lr, param_grid=param_grid, cv=5, n_jobs=-1, verbose=2)\n",
    "grid_search.fit(X_train, y_train)\n",
    "\n",
    "# Get the best parameters and train the model\n",
    "best_params = grid_search.best_params_\n",
    "best_lr = LogisticRegression(**best_params)\n",
    "best_lr.fit(X_train, y_train)\n",
    "\n",
    "# Make predictions\n",
    "y_pred = best_lr.predict(X_test)\n",
    "\n",
    "# Evaluate the model\n",
    "accuracy = accuracy_score(y_test, y_pred)\n",
    "print(f\"Model accuracy: {accuracy}\")\n",
    "print(f\"Best hyperparameters: {best_params}\")"
   ]
  },
  {
   "cell_type": "code",
   "execution_count": null,
   "id": "460d61d8-a61c-467b-8c3b-aa2c81f1e85c",
   "metadata": {},
   "outputs": [],
   "source": [
    "# Best hyperparameters for Logistic Regression (already found)\n",
    "best_params_lr = {'C': 0.1, 'max_iter': 100, 'penalty': 'l1', 'solver': 'liblinear'}\n",
    "\n",
    "# Train the final Logistic Regression model with the best hyperparameters\n",
    "final_lr = LogisticRegression(**best_params_lr)\n",
    "final_lr.fit(X_train, y_train)\n",
    "\n",
    "# Evaluate the final Logistic Regression model\n",
    "print(\"Evaluating Logistic Regression Model:\")\n",
    "evaluate_model(final_lr, X_test, y_test)"
   ]
  },
  {
   "cell_type": "markdown",
   "id": "02e950e3-1aa8-465a-842b-3cd687145b7b",
   "metadata": {},
   "source": [
    "### KNN Classifier"
   ]
  },
  {
   "cell_type": "code",
   "execution_count": null,
   "id": "86c51c4a-841b-49c7-8d2b-b8338c4398e5",
   "metadata": {},
   "outputs": [],
   "source": [
    "# Define the parameter grid for KNN\n",
    "param_grid_knn = {\n",
    "    'n_neighbors': [3, 5, 7, 9],\n",
    "    'weights': ['uniform', 'distance'],\n",
    "    'algorithm': ['auto', 'ball_tree', 'kd_tree', 'brute']\n",
    "}\n",
    "\n",
    "# Initialize the KNN model\n",
    "knn = KNeighborsClassifier()\n",
    "\n",
    "# Perform grid search with cross-validation for KNN\n",
    "grid_search_knn = GridSearchCV(estimator=knn, param_grid=param_grid_knn, cv=5, n_jobs=-1, verbose=2)\n",
    "grid_search_knn.fit(X_train, y_train)\n",
    "\n",
    "# Get the best parameters and train the KNN model\n",
    "best_params_knn = grid_search_knn.best_params_\n",
    "best_knn = KNeighborsClassifier(**best_params_knn)\n",
    "best_knn.fit(X_train, y_train)\n",
    "\n",
    "# Make predictions with the best KNN model\n",
    "y_pred_knn = best_knn.predict(X_test)\n",
    "\n",
    "# Evaluate the KNN model\n",
    "accuracy_knn = accuracy_score(y_test, y_pred_knn)\n",
    "print(f\"KNN model accuracy: {accuracy_knn}\")\n",
    "print(f\"Best hyperparameters for KNN: {best_params_knn}\")"
   ]
  },
  {
   "cell_type": "code",
   "execution_count": null,
   "id": "842e8930-b62b-4c19-b4b4-41bcd2875d4f",
   "metadata": {},
   "outputs": [],
   "source": [
    "# Best hyperparameters for KNN\n",
    "best_params_knn = {'algorithm': 'auto', 'n_neighbors': 9, 'weights': 'uniform'}\n",
    "\n",
    "# Train the final KNN model with the best hyperparameters\n",
    "final_knn = KNeighborsClassifier(**best_params_knn)\n",
    "final_knn.fit(X_train, y_train)\n",
    "\n",
    "# Evaluate final model\n",
    "print(\"Evaluating KNN Model:\")\n",
    "evaluate_model(final_knn, X_test, y_test)\n"
   ]
  },
  {
   "cell_type": "markdown",
   "id": "2bde6852-7083-4df4-b813-1fbc5343cb2f",
   "metadata": {},
   "source": [
    "### SVM Classifier"
   ]
  },
  {
   "cell_type": "code",
   "execution_count": null,
   "id": "3449eb40-1dbc-4dbd-971d-496238f8651a",
   "metadata": {},
   "outputs": [],
   "source": [
    "# Define the parameter grid for SVM\n",
    "param_grid_svm = {\n",
    "    'C': [0.1, 1, 10, 100],\n",
    "    'kernel': ['linear', 'poly', 'rbf', 'sigmoid'],\n",
    "    'gamma': ['scale', 'auto']\n",
    "}\n",
    "\n",
    "# Initialize the SVM model\n",
    "svm = SVC()\n",
    "\n",
    "# Perform grid search with cross-validation \n",
    "grid_search_svm = GridSearchCV(estimator=svm, param_grid=param_grid_svm, cv=5, n_jobs=-1, verbose=2)\n",
    "grid_search_svm.fit(X_train, y_train)\n",
    "\n",
    "# Get the best parameters and train model\n",
    "best_params_svm = grid_search_svm.best_params_\n",
    "best_svm = SVC(**best_params_svm)\n",
    "best_svm.fit(X_train, y_train)\n",
    "\n",
    "# Make predictions\n",
    "y_pred_svm = best_svm.predict(X_test)\n",
    "\n",
    "# Evaluate model\n",
    "accuracy_svm = accuracy_score(y_test, y_pred_svm)\n",
    "print(f\"SVM model accuracy: {accuracy_svm}\")\n",
    "print(f\"Best hyperparameters for SVM: {best_params_svm}\")"
   ]
  },
  {
   "cell_type": "code",
   "execution_count": null,
   "id": "aec45e68-b910-4261-b302-8893ca49a5ce",
   "metadata": {},
   "outputs": [],
   "source": [
    "best_params_svm = {'C': 1, 'kernel': 'rbf', 'gamma': 'scale'}\n",
    "\n",
    "# Train the final SVM model with the best hyperparameters\n",
    "final_svm = SVC(**best_params_svm, probability=True)\n",
    "final_svm.fit(X_train, y_train)\n",
    "\n",
    "# Evaluate the final SVM model\n",
    "print(\"Evaluating SVM Model:\")\n",
    "evaluate_model(final_svm, X_test, y_test)"
   ]
  },
  {
   "cell_type": "code",
   "execution_count": null,
   "id": "312df90b-6f9e-4c86-8c2f-ac690ed9cea5",
   "metadata": {},
   "outputs": [],
   "source": [
    "X_train.head()"
   ]
  },
  {
   "cell_type": "code",
   "execution_count": null,
   "id": "bf8fe526-1b61-4197-ab06-1774cf54638e",
   "metadata": {},
   "outputs": [],
   "source": [
    "df.head()"
   ]
  },
  {
   "cell_type": "code",
   "execution_count": null,
   "id": "b6f3c09a-facc-49bd-9d04-6b97750045b8",
   "metadata": {},
   "outputs": [],
   "source": [
    "# Define the feature names including 'education'\n",
    "feature_names = ['age', 'workclass', 'fnlwgt', 'education', 'education.num', 'marital.status', 'occupation', \n",
    "                 'relationship', 'race', 'sex', 'capital.gain', 'capital.loss', 'hours.per.week', \n",
    "                 'native.country']\n",
    "\n",
    "# Sample training data for fitting the scaler and classifiers (replace with actual training data)\n",
    "X_train = pd.DataFrame(np.random.rand(100, len(feature_names)), columns=feature_names)\n",
    "y_train = np.random.randint(2, size=100)  # Sample binary target variable\n",
    "\n",
    "# Fit the scaler on the training data\n",
    "scaler = StandardScaler()\n",
    "scaler.fit(X_train)\n",
    "\n",
    "# Fit the classifiers on the training data\n",
    "final_knn = KNeighborsClassifier(n_neighbors=9, weights='uniform', algorithm='auto')\n",
    "final_knn.fit(X_train, y_train)\n",
    "\n",
    "final_dt = DecisionTreeClassifier(criterion='entropy', max_depth=10, min_samples_leaf=4, min_samples_split=2)\n",
    "final_dt.fit(X_train, y_train)\n",
    "\n",
    "final_lr = LogisticRegression(C=0.1, max_iter=100, penalty='l1', solver='liblinear')\n",
    "final_lr.fit(X_train, y_train)\n",
    "\n",
    "final_svm = SVC(C=10, kernel='rbf', gamma='scale', probability=True)\n",
    "final_svm.fit(X_train, y_train)\n",
    "\n",
    "# Sample label encoders (replace with actual encoders trained on your data)\n",
    "workclass_encoder = LabelEncoder().fit(['Private', 'Self-emp-not-inc', 'Self-emp-inc', 'Federal-gov', 'Local-gov', 'State-gov', 'Without-pay', 'Never-worked'])\n",
    "education_encoder = LabelEncoder().fit(['dropout', 'HighGrad', 'CommunityCollege', 'Bachelors', 'Masters', 'Doctorate'])\n",
    "marital_status_encoder = LabelEncoder().fit(['NotMarried', 'Married', 'Separated', 'Widowed'])\n",
    "occupation_encoder = LabelEncoder().fit(['Tech-support', 'Craft-repair', 'Other-service', 'Sales', 'Exec-managerial', 'Prof-specialty', 'Handlers-cleaners', 'Machine-op-inspct', 'Adm-clerical', 'Farming-fishing', 'Transport-moving', 'Priv-house-serv', 'Protective-serv', 'Armed-Forces'])\n",
    "relationship_encoder = LabelEncoder().fit(['Wife', 'Own-child', 'Husband', 'Not-in-family', 'Other-relative', 'Unmarried'])\n",
    "race_encoder = LabelEncoder().fit(['White', 'Asian-Pac-Islander', 'Amer-Indian-Eskimo', 'Other', 'Black'])\n",
    "sex_encoder = LabelEncoder().fit(['Female', 'Male'])\n",
    "native_country_encoder = LabelEncoder().fit(['United-States'])\n",
    "\n",
    "# Function to predict income category\n",
    "def predict_income(age, workclass, fnlwgt, education, education_num, marital_status, occupation,\n",
    "                   relationship, race, sex, capital_gain, capital_loss, hours_per_week, native_country,\n",
    "                   model_name):\n",
    "    try:\n",
    "        # Transform categorical inputs using label encoders\n",
    "        workclass = workclass_encoder.transform([workclass])[0]\n",
    "        education = education_encoder.transform([education])[0]\n",
    "        marital_status = marital_status_encoder.transform([marital_status])[0]\n",
    "        occupation = occupation_encoder.transform([occupation])[0]\n",
    "        relationship = relationship_encoder.transform([relationship])[0]\n",
    "        race = race_encoder.transform([race])[0]\n",
    "        sex = sex_encoder.transform([sex])[0]\n",
    "        native_country = native_country_encoder.transform([native_country])[0]\n",
    "\n",
    "        # Create the sample input array\n",
    "        sample_input = np.array([\n",
    "            age, workclass, fnlwgt, education, education_num, marital_status, occupation,\n",
    "            relationship, race, sex, capital_gain, capital_loss, hours_per_week, native_country\n",
    "        ]).reshape(1, -1)\n",
    "\n",
    "        # Convert the sample input to a DataFrame\n",
    "        sample_input_df = pd.DataFrame(sample_input, columns=feature_names)\n",
    "\n",
    "        # Scale the sample input\n",
    "        sample_input_scaled = pd.DataFrame(scaler.transform(sample_input_df), columns=feature_names)\n",
    "\n",
    "        # Get selected model\n",
    "        if model_name == \"KNN\":\n",
    "            model = final_knn\n",
    "        elif model_name == \"Decision Tree\":\n",
    "            model = final_dt\n",
    "        elif model_name == \"Logistic Regression\":\n",
    "            model = final_lr\n",
    "        elif model_name == \"SVM\":\n",
    "             model = final_svm\n",
    "        else:\n",
    "            raise ValueError(\"Invalid model name\")\n",
    "\n",
    "        # Make a prediction\n",
    "        sample_prediction = model.predict(sample_input_scaled)\n",
    "\n",
    "        # Convert the prediction to the corresponding label\n",
    "        predicted_label = '>50K' if sample_prediction[0] == 1 else '<=50K'\n",
    "\n",
    "        return predicted_label\n",
    "\n",
    "    except ValueError as e:\n",
    "        return str(e)\n",
    "\n",
    "# Test cases to check if the function is working correctly\n",
    "test_cases = [\n",
    "    (25, \"Private\", 200000, \"Bachelors\", 13, \"NotMarried\", \"Sales\", \"Not-in-family\", \"White\", \"Male\", 0, 0, 40, \"United-States\", \"KNN\"),\n",
    "    (45, \"Self-emp-not-inc\", 300000, \"Masters\", 14, \"Married\", \"Exec-managerial\", \"Husband\", \"Asian-Pac-Islander\", \"Female\", 5000, 0, 50, \"United-States\", \"Decision Tree\"),\n",
    "    (35, \"Federal-gov\", 150000, \"Doctorate\", 16, \"Separated\", \"Prof-specialty\", \"Unmarried\", \"Black\", \"Male\", 0, 2000, 60, \"United-States\", \"Logistic Regression\"),\n",
    "    (28, \"Local-gov\", 100000, \"HighGrad\", 9, \"Widowed\", \"Tech-support\", \"Wife\", \"Amer-Indian-Eskimo\", \"Female\", 10000, 5000, 30, \"United-States\", \"SVM\")\n",
    "]\n",
    "\n",
    "# Run test cases and print results\n",
    "for i, test_case in enumerate(test_cases):\n",
    "    result = predict_income(*test_case)\n",
    "    print(f\"Test Case {i+1}: Predicted Income Category: {result}\")\n"
   ]
  },
  {
   "cell_type": "markdown",
   "id": "e0dc89ce-0a3f-4925-9460-54403d5d99fd",
   "metadata": {},
   "source": [
    "# GUI"
   ]
  },
  {
   "cell_type": "code",
   "execution_count": null,
   "id": "229f71d8-48c0-4df5-81ee-a870800dabbf",
   "metadata": {},
   "outputs": [],
   "source": [
    "# Define the feature names including 'education'\n",
    "feature_names = ['age', 'workclass', 'fnlwgt', 'education', 'education.num', 'marital.status', 'occupation', \n",
    "                 'relationship', 'race', 'sex', 'capital.gain', 'capital.loss', 'hours.per.week', \n",
    "                 'native.country']\n",
    "\n",
    "# Sample training data for fitting the scaler and classifiers (replace with actual training data)\n",
    "X_train = pd.DataFrame(np.random.rand(100, len(feature_names)), columns=feature_names)\n",
    "y_train = np.random.randint(2, size=100)  # Sample binary target variable\n",
    "\n",
    "# Fit the scaler on the training data\n",
    "scaler = StandardScaler()\n",
    "scaler.fit(X_train)\n",
    "\n",
    "# Fit the classifiers on the training data\n",
    "final_knn = KNeighborsClassifier(n_neighbors=9, weights='uniform', algorithm='auto')\n",
    "final_knn.fit(X_train, y_train)\n",
    "\n",
    "final_dt = DecisionTreeClassifier(criterion='entropy', max_depth=10, min_samples_leaf=4, min_samples_split=2)\n",
    "final_dt.fit(X_train, y_train)\n",
    "\n",
    "final_lr = LogisticRegression(C=0.1, max_iter=100, penalty='l1', solver='liblinear')\n",
    "final_lr.fit(X_train, y_train)\n",
    "\n",
    "final_svm = SVC(C=10, kernel='rbf', gamma='scale', probability=True)\n",
    "final_svm.fit(X_train, y_train)\n",
    "\n",
    "# Sample label encoders (replace with actual encoders trained on your data)\n",
    "workclass_encoder = LabelEncoder().fit(['Private', 'Self-emp-not-inc', 'Self-emp-inc', 'Federal-gov', 'Local-gov', 'State-gov', 'Without-pay', 'Never-worked'])\n",
    "education_encoder = LabelEncoder().fit(['dropout', 'HighGrad', 'CommunityCollege', 'Bachelors', 'Masters', 'Doctorate'])\n",
    "marital_status_encoder = LabelEncoder().fit(['NotMarried', 'Married', 'Separated', 'Widowed'])\n",
    "occupation_encoder = LabelEncoder().fit(['Tech-support', 'Craft-repair', 'Other-service', 'Sales', 'Exec-managerial', 'Prof-specialty', 'Handlers-cleaners', 'Machine-op-inspct', 'Adm-clerical', 'Farming-fishing', 'Transport-moving', 'Priv-house-serv', 'Protective-serv', 'Armed-Forces'])\n",
    "relationship_encoder = LabelEncoder().fit(['Wife', 'Own-child', 'Husband', 'Not-in-family', 'Other-relative', 'Unmarried'])\n",
    "race_encoder = LabelEncoder().fit(['White', 'Asian-Pac-Islander', 'Amer-Indian-Eskimo', 'Other', 'Black'])\n",
    "sex_encoder = LabelEncoder().fit(['Female', 'Male'])\n",
    "native_country_encoder = LabelEncoder().fit(['United-States'])\n",
    "\n",
    "# Function to predict income category\n",
    "def predict_income():\n",
    "    try:\n",
    "        # Get user inputs\n",
    "        age = int(entry_age.get())\n",
    "        workclass = workclass_encoder.transform([entry_workclass.get()])[0]\n",
    "        fnlwgt = int(entry_fnlwgt.get())\n",
    "        education = education_encoder.transform([entry_education.get()])[0]\n",
    "        education_num = int(entry_education_num.get())\n",
    "        marital_status = marital_status_encoder.transform([entry_marital_status.get()])[0]\n",
    "        occupation = occupation_encoder.transform([entry_occupation.get()])[0]\n",
    "        relationship = relationship_encoder.transform([entry_relationship.get()])[0]\n",
    "        race = race_encoder.transform([entry_race.get()])[0]\n",
    "        sex = sex_encoder.transform([entry_sex.get()])[0]\n",
    "        capital_gain = int(entry_capital_gain.get())\n",
    "        capital_loss = int(entry_capital_loss.get())\n",
    "        hours_per_week = int(entry_hours_per_week.get())\n",
    "        native_country = native_country_encoder.transform([entry_native_country.get()])[0]\n",
    "\n",
    "        # Create the sample input array\n",
    "        sample_input = np.array([\n",
    "            age, workclass, fnlwgt, education, education_num, marital_status, occupation,\n",
    "            relationship, race, sex, capital_gain, capital_loss, hours_per_week, native_country\n",
    "        ]).reshape(1, -1)\n",
    "\n",
    "        # Convert the sample input to a DataFrame\n",
    "        sample_input_df = pd.DataFrame(sample_input, columns=feature_names)\n",
    "\n",
    "        # Scale the sample input\n",
    "        sample_input_scaled = pd.DataFrame(scaler.transform(sample_input_df), columns=feature_names)\n",
    "\n",
    "        # Get selected model\n",
    "        selected_model_name = model_combobox.get()\n",
    "        \n",
    "        if selected_model_name == \"KNN\":\n",
    "            model = final_knn\n",
    "        elif selected_model_name == \"Decision Tree\":\n",
    "            model = final_dt\n",
    "        elif selected_model_name == \"Logistic Regression\":\n",
    "            model = final_lr\n",
    "        elif selected_model_name == \"SVM\":\n",
    "            model = final_svm\n",
    "        else:\n",
    "            messagebox.showerror(\"Model Selection Error\", \"Please select a valid model.\")\n",
    "            return\n",
    "\n",
    "        # Make a prediction\n",
    "        sample_prediction = model.predict(sample_input_scaled)\n",
    "\n",
    "        # Convert the prediction to the corresponding label\n",
    "        predicted_label = '>50K' if sample_prediction[0] == 1 else '<=50K'\n",
    "\n",
    "        # Display the prediction result\n",
    "        messagebox.showinfo(\"Prediction Result\", f\"The predicted income category is: {predicted_label}\")\n",
    "\n",
    "    except ValueError:\n",
    "        messagebox.showerror(\"Input Error\", \"Please enter valid values for all fields.\")\n",
    "\n",
    "# Create the GUI window\n",
    "window = tk.Tk()\n",
    "window.title(\"Income Prediction\")\n",
    "\n",
    "# Create and place labels and entry widgets for user inputs\n",
    "labels_texts = [\n",
    "    \"Age\", \"Workclass\", \"Fnlwgt\", \"Education\", \"Education Num\",\n",
    "    \"Marital Status\", \"Occupation\", \"Relationship\",\n",
    "    \"Race\", \"Sex\", \"Capital Gain\", \"Capital Loss\",\n",
    "    \"Hours Per Week\", \"Native Country\"\n",
    "]\n",
    "\n",
    "entries_vars = []\n",
    "for i, text in enumerate(labels_texts):\n",
    "    label = tk.Label(window, text=text)\n",
    "    label.grid(row=i, column=0)\n",
    "    entry_var = tk.StringVar()\n",
    "    entry = tk.Entry(window, textvariable=entry_var)\n",
    "    entry.grid(row=i, column=1)\n",
    "    entries_vars.append(entry_var)\n",
    "\n",
    "entry_age, entry_workclass, entry_fnlwgt, entry_education, entry_education_num, \\\n",
    "entry_marital_status, entry_occupation, entry_relationship, entry_race, \\\n",
    "entry_sex, entry_capital_gain, entry_capital_loss, entry_hours_per_week, \\\n",
    "entry_native_country = entries_vars\n",
    "\n",
    "# Create and place the model selection combobox\n",
    "model_label = tk.Label(window, text=\"Select Model\")\n",
    "model_label.grid(row=len(labels_texts), column=0)\n",
    "model_combobox = ttk.Combobox(window, values=[\"KNN\", \"Decision Tree\", \"Logistic Regression\", \"SVM\"])\n",
    "model_combobox.grid(row=len(labels_texts), column=1)\n",
    "\n",
    "# Create and place the Predict button\n",
    "predict_button = tk.Button(window, text=\"Predict\", command=predict_income)\n",
    "predict_button.grid(row=len(labels_texts) + 1, columnspan=2)\n",
    "\n",
    "# Run the GUI event loop\n",
    "window.mainloop()"
   ]
  },
  {
   "cell_type": "code",
   "execution_count": null,
   "id": "2dbfcd29-ef90-4016-aed1-d9b80911c158",
   "metadata": {},
   "outputs": [],
   "source": []
  }
 ],
 "metadata": {
  "kernelspec": {
   "display_name": "Python 3 (ipykernel)",
   "language": "python",
   "name": "python3"
  },
  "language_info": {
   "codemirror_mode": {
    "name": "ipython",
    "version": 3
   },
   "file_extension": ".py",
   "mimetype": "text/x-python",
   "name": "python",
   "nbconvert_exporter": "python",
   "pygments_lexer": "ipython3",
   "version": "3.12.3"
  }
 },
 "nbformat": 4,
 "nbformat_minor": 5
}
